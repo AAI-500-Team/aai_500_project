{
  "cells": [
    {
      "cell_type": "code",
      "execution_count": 2,
      "metadata": {
        "id": "IA5eLr3lyqsW"
      },
      "outputs": [],
      "source": [
        "import pandas as pd\n",
        "import seaborn as sns\n",
        "import matplotlib.pyplot as plt\n",
        "import numpy as np\n",
        "from scipy.stats import pearsonr\n",
        "import statsmodels.api as sm\n",
        "\n",
        "# Specify the URL of the dataset\n",
        "url = \"https://raw.githubusercontent.com/AAI-500-Team/aai_500_dataset/main/Energy_efficiency_data.csv\"\n",
        "\n",
        "# Use pandas to read the CSV file from the URL into a DataFrame\n",
        "df = pd.read_csv(url)"
      ]
    },
    {
      "cell_type": "markdown",
      "metadata": {
        "id": "PKjFZAyjhpog"
      },
      "source": [
        "## Introduction"
      ]
    },
    {
      "cell_type": "code",
      "execution_count": 3,
      "metadata": {
        "colab": {
          "base_uri": "https://localhost:8080/",
          "height": 300
        },
        "id": "Cd-f2gNgzGx0",
        "outputId": "2dadcc82-56b4-4f99-f031-30ec74948c32"
      },
      "outputs": [
        {
          "data": {
            "text/html": [
              "<div>\n",
              "<style scoped>\n",
              "    .dataframe tbody tr th:only-of-type {\n",
              "        vertical-align: middle;\n",
              "    }\n",
              "\n",
              "    .dataframe tbody tr th {\n",
              "        vertical-align: top;\n",
              "    }\n",
              "\n",
              "    .dataframe thead th {\n",
              "        text-align: right;\n",
              "    }\n",
              "</style>\n",
              "<table border=\"1\" class=\"dataframe\">\n",
              "  <thead>\n",
              "    <tr style=\"text-align: right;\">\n",
              "      <th></th>\n",
              "      <th>Relative Compactness</th>\n",
              "      <th>Surface Area</th>\n",
              "      <th>Wall Area</th>\n",
              "      <th>Roof Area</th>\n",
              "      <th>Overall Height</th>\n",
              "      <th>Orientation</th>\n",
              "      <th>Glazing Area</th>\n",
              "      <th>Glazing Area Distribution</th>\n",
              "      <th>Heating Load</th>\n",
              "      <th>Cooling Load</th>\n",
              "    </tr>\n",
              "  </thead>\n",
              "  <tbody>\n",
              "    <tr>\n",
              "      <th>count</th>\n",
              "      <td>768.000000</td>\n",
              "      <td>768.000000</td>\n",
              "      <td>768.000000</td>\n",
              "      <td>768.000000</td>\n",
              "      <td>768.00000</td>\n",
              "      <td>768.000000</td>\n",
              "      <td>768.000000</td>\n",
              "      <td>768.00000</td>\n",
              "      <td>768.000000</td>\n",
              "      <td>768.000000</td>\n",
              "    </tr>\n",
              "    <tr>\n",
              "      <th>mean</th>\n",
              "      <td>0.764167</td>\n",
              "      <td>671.708333</td>\n",
              "      <td>318.500000</td>\n",
              "      <td>176.604167</td>\n",
              "      <td>5.25000</td>\n",
              "      <td>3.500000</td>\n",
              "      <td>0.234375</td>\n",
              "      <td>2.81250</td>\n",
              "      <td>22.307201</td>\n",
              "      <td>24.587760</td>\n",
              "    </tr>\n",
              "    <tr>\n",
              "      <th>std</th>\n",
              "      <td>0.105777</td>\n",
              "      <td>88.086116</td>\n",
              "      <td>43.626481</td>\n",
              "      <td>45.165950</td>\n",
              "      <td>1.75114</td>\n",
              "      <td>1.118763</td>\n",
              "      <td>0.133221</td>\n",
              "      <td>1.55096</td>\n",
              "      <td>10.090196</td>\n",
              "      <td>9.513306</td>\n",
              "    </tr>\n",
              "    <tr>\n",
              "      <th>min</th>\n",
              "      <td>0.620000</td>\n",
              "      <td>514.500000</td>\n",
              "      <td>245.000000</td>\n",
              "      <td>110.250000</td>\n",
              "      <td>3.50000</td>\n",
              "      <td>2.000000</td>\n",
              "      <td>0.000000</td>\n",
              "      <td>0.00000</td>\n",
              "      <td>6.010000</td>\n",
              "      <td>10.900000</td>\n",
              "    </tr>\n",
              "    <tr>\n",
              "      <th>25%</th>\n",
              "      <td>0.682500</td>\n",
              "      <td>606.375000</td>\n",
              "      <td>294.000000</td>\n",
              "      <td>140.875000</td>\n",
              "      <td>3.50000</td>\n",
              "      <td>2.750000</td>\n",
              "      <td>0.100000</td>\n",
              "      <td>1.75000</td>\n",
              "      <td>12.992500</td>\n",
              "      <td>15.620000</td>\n",
              "    </tr>\n",
              "    <tr>\n",
              "      <th>50%</th>\n",
              "      <td>0.750000</td>\n",
              "      <td>673.750000</td>\n",
              "      <td>318.500000</td>\n",
              "      <td>183.750000</td>\n",
              "      <td>5.25000</td>\n",
              "      <td>3.500000</td>\n",
              "      <td>0.250000</td>\n",
              "      <td>3.00000</td>\n",
              "      <td>18.950000</td>\n",
              "      <td>22.080000</td>\n",
              "    </tr>\n",
              "    <tr>\n",
              "      <th>75%</th>\n",
              "      <td>0.830000</td>\n",
              "      <td>741.125000</td>\n",
              "      <td>343.000000</td>\n",
              "      <td>220.500000</td>\n",
              "      <td>7.00000</td>\n",
              "      <td>4.250000</td>\n",
              "      <td>0.400000</td>\n",
              "      <td>4.00000</td>\n",
              "      <td>31.667500</td>\n",
              "      <td>33.132500</td>\n",
              "    </tr>\n",
              "    <tr>\n",
              "      <th>max</th>\n",
              "      <td>0.980000</td>\n",
              "      <td>808.500000</td>\n",
              "      <td>416.500000</td>\n",
              "      <td>220.500000</td>\n",
              "      <td>7.00000</td>\n",
              "      <td>5.000000</td>\n",
              "      <td>0.400000</td>\n",
              "      <td>5.00000</td>\n",
              "      <td>43.100000</td>\n",
              "      <td>48.030000</td>\n",
              "    </tr>\n",
              "  </tbody>\n",
              "</table>\n",
              "</div>"
            ],
            "text/plain": [
              "       Relative Compactness  Surface Area   Wall Area   Roof Area  \\\n",
              "count            768.000000    768.000000  768.000000  768.000000   \n",
              "mean               0.764167    671.708333  318.500000  176.604167   \n",
              "std                0.105777     88.086116   43.626481   45.165950   \n",
              "min                0.620000    514.500000  245.000000  110.250000   \n",
              "25%                0.682500    606.375000  294.000000  140.875000   \n",
              "50%                0.750000    673.750000  318.500000  183.750000   \n",
              "75%                0.830000    741.125000  343.000000  220.500000   \n",
              "max                0.980000    808.500000  416.500000  220.500000   \n",
              "\n",
              "       Overall Height  Orientation  Glazing Area  Glazing Area Distribution  \\\n",
              "count       768.00000   768.000000    768.000000                  768.00000   \n",
              "mean          5.25000     3.500000      0.234375                    2.81250   \n",
              "std           1.75114     1.118763      0.133221                    1.55096   \n",
              "min           3.50000     2.000000      0.000000                    0.00000   \n",
              "25%           3.50000     2.750000      0.100000                    1.75000   \n",
              "50%           5.25000     3.500000      0.250000                    3.00000   \n",
              "75%           7.00000     4.250000      0.400000                    4.00000   \n",
              "max           7.00000     5.000000      0.400000                    5.00000   \n",
              "\n",
              "       Heating Load  Cooling Load  \n",
              "count    768.000000    768.000000  \n",
              "mean      22.307201     24.587760  \n",
              "std       10.090196      9.513306  \n",
              "min        6.010000     10.900000  \n",
              "25%       12.992500     15.620000  \n",
              "50%       18.950000     22.080000  \n",
              "75%       31.667500     33.132500  \n",
              "max       43.100000     48.030000  "
            ]
          },
          "execution_count": 3,
          "metadata": {},
          "output_type": "execute_result"
        }
      ],
      "source": [
        "# use the describe method to find descriptive statistics (including the 5-summary stats)\n",
        "df.describe()"
      ]
    },
    {
      "cell_type": "code",
      "execution_count": 4,
      "metadata": {
        "colab": {
          "base_uri": "https://localhost:8080/"
        },
        "id": "y72klro_jmlb",
        "outputId": "8a7c3675-9002-493a-c53d-dcba94fec375"
      },
      "outputs": [
        {
          "name": "stdout",
          "output_type": "stream",
          "text": [
            "Number of rows: 1296, Number of columns: 10\n"
          ]
        }
      ],
      "source": [
        "rows, columns = df.shape\n",
        "print(f\"Number of rows: {rows}, Number of columns: {columns}\")"
      ]
    },
    {
      "cell_type": "markdown",
      "metadata": {
        "id": "_imGvUFzjxId"
      },
      "source": [
        "We are starting with the dataset containing **1296** original records.\n",
        "\n",
        "In the next section we will perform data cleaning and preparation, to remove any missing or incomplete values."
      ]
    },
    {
      "cell_type": "markdown",
      "metadata": {
        "id": "DpsVzRKkhxsX"
      },
      "source": [
        "## Data Cleaning / Preparation"
      ]
    },
    {
      "cell_type": "markdown",
      "metadata": {
        "id": "E5Zw9niukkd1"
      },
      "source": [
        "Let's inspect any missing, incomplete data."
      ]
    },
    {
      "cell_type": "code",
      "execution_count": 5,
      "metadata": {
        "colab": {
          "base_uri": "https://localhost:8080/"
        },
        "id": "B_f09IsekatR",
        "outputId": "834b587d-7a24-43c0-dbb5-5c07c80863a7"
      },
      "outputs": [
        {
          "name": "stdout",
          "output_type": "stream",
          "text": [
            "Number of missing records: 528\n"
          ]
        }
      ],
      "source": [
        "missing_records = df[df.isna().any(axis=1)]\n",
        "print(f\"Number of missing records: {len(missing_records)}\")"
      ]
    },
    {
      "cell_type": "markdown",
      "metadata": {
        "id": "JbgAu3KynUfF"
      },
      "source": [
        "We found **528** missing records, possibly due to empty rows in the original **xlsx** spreadsheet.\n",
        "\n",
        "Let's look further into the available data."
      ]
    },
    {
      "cell_type": "code",
      "execution_count": 6,
      "metadata": {
        "colab": {
          "base_uri": "https://localhost:8080/",
          "height": 363
        },
        "id": "rMgR9eA1gCDe",
        "outputId": "eb29440b-2ef4-4e11-8285-e0656bb2afdf"
      },
      "outputs": [
        {
          "data": {
            "text/html": [
              "<div>\n",
              "<style scoped>\n",
              "    .dataframe tbody tr th:only-of-type {\n",
              "        vertical-align: middle;\n",
              "    }\n",
              "\n",
              "    .dataframe tbody tr th {\n",
              "        vertical-align: top;\n",
              "    }\n",
              "\n",
              "    .dataframe thead th {\n",
              "        text-align: right;\n",
              "    }\n",
              "</style>\n",
              "<table border=\"1\" class=\"dataframe\">\n",
              "  <thead>\n",
              "    <tr style=\"text-align: right;\">\n",
              "      <th></th>\n",
              "      <th>Relative Compactness</th>\n",
              "      <th>Surface Area</th>\n",
              "      <th>Wall Area</th>\n",
              "      <th>Roof Area</th>\n",
              "      <th>Overall Height</th>\n",
              "      <th>Orientation</th>\n",
              "      <th>Glazing Area</th>\n",
              "      <th>Glazing Area Distribution</th>\n",
              "      <th>Heating Load</th>\n",
              "      <th>Cooling Load</th>\n",
              "    </tr>\n",
              "  </thead>\n",
              "  <tbody>\n",
              "    <tr>\n",
              "      <th>0</th>\n",
              "      <td>0.98</td>\n",
              "      <td>514.5</td>\n",
              "      <td>294.0</td>\n",
              "      <td>110.25</td>\n",
              "      <td>7.0</td>\n",
              "      <td>2.0</td>\n",
              "      <td>0.0</td>\n",
              "      <td>0.0</td>\n",
              "      <td>15.55</td>\n",
              "      <td>21.33</td>\n",
              "    </tr>\n",
              "    <tr>\n",
              "      <th>1</th>\n",
              "      <td>0.98</td>\n",
              "      <td>514.5</td>\n",
              "      <td>294.0</td>\n",
              "      <td>110.25</td>\n",
              "      <td>7.0</td>\n",
              "      <td>3.0</td>\n",
              "      <td>0.0</td>\n",
              "      <td>0.0</td>\n",
              "      <td>15.55</td>\n",
              "      <td>21.33</td>\n",
              "    </tr>\n",
              "    <tr>\n",
              "      <th>2</th>\n",
              "      <td>0.98</td>\n",
              "      <td>514.5</td>\n",
              "      <td>294.0</td>\n",
              "      <td>110.25</td>\n",
              "      <td>7.0</td>\n",
              "      <td>4.0</td>\n",
              "      <td>0.0</td>\n",
              "      <td>0.0</td>\n",
              "      <td>15.55</td>\n",
              "      <td>21.33</td>\n",
              "    </tr>\n",
              "    <tr>\n",
              "      <th>3</th>\n",
              "      <td>0.98</td>\n",
              "      <td>514.5</td>\n",
              "      <td>294.0</td>\n",
              "      <td>110.25</td>\n",
              "      <td>7.0</td>\n",
              "      <td>5.0</td>\n",
              "      <td>0.0</td>\n",
              "      <td>0.0</td>\n",
              "      <td>15.55</td>\n",
              "      <td>21.33</td>\n",
              "    </tr>\n",
              "    <tr>\n",
              "      <th>4</th>\n",
              "      <td>0.90</td>\n",
              "      <td>563.5</td>\n",
              "      <td>318.5</td>\n",
              "      <td>122.50</td>\n",
              "      <td>7.0</td>\n",
              "      <td>2.0</td>\n",
              "      <td>0.0</td>\n",
              "      <td>0.0</td>\n",
              "      <td>20.84</td>\n",
              "      <td>28.28</td>\n",
              "    </tr>\n",
              "    <tr>\n",
              "      <th>5</th>\n",
              "      <td>0.90</td>\n",
              "      <td>563.5</td>\n",
              "      <td>318.5</td>\n",
              "      <td>122.50</td>\n",
              "      <td>7.0</td>\n",
              "      <td>3.0</td>\n",
              "      <td>0.0</td>\n",
              "      <td>0.0</td>\n",
              "      <td>21.46</td>\n",
              "      <td>25.38</td>\n",
              "    </tr>\n",
              "    <tr>\n",
              "      <th>6</th>\n",
              "      <td>0.90</td>\n",
              "      <td>563.5</td>\n",
              "      <td>318.5</td>\n",
              "      <td>122.50</td>\n",
              "      <td>7.0</td>\n",
              "      <td>4.0</td>\n",
              "      <td>0.0</td>\n",
              "      <td>0.0</td>\n",
              "      <td>20.71</td>\n",
              "      <td>25.16</td>\n",
              "    </tr>\n",
              "    <tr>\n",
              "      <th>7</th>\n",
              "      <td>0.90</td>\n",
              "      <td>563.5</td>\n",
              "      <td>318.5</td>\n",
              "      <td>122.50</td>\n",
              "      <td>7.0</td>\n",
              "      <td>5.0</td>\n",
              "      <td>0.0</td>\n",
              "      <td>0.0</td>\n",
              "      <td>19.68</td>\n",
              "      <td>29.60</td>\n",
              "    </tr>\n",
              "    <tr>\n",
              "      <th>8</th>\n",
              "      <td>0.86</td>\n",
              "      <td>588.0</td>\n",
              "      <td>294.0</td>\n",
              "      <td>147.00</td>\n",
              "      <td>7.0</td>\n",
              "      <td>2.0</td>\n",
              "      <td>0.0</td>\n",
              "      <td>0.0</td>\n",
              "      <td>19.50</td>\n",
              "      <td>27.30</td>\n",
              "    </tr>\n",
              "    <tr>\n",
              "      <th>9</th>\n",
              "      <td>0.86</td>\n",
              "      <td>588.0</td>\n",
              "      <td>294.0</td>\n",
              "      <td>147.00</td>\n",
              "      <td>7.0</td>\n",
              "      <td>3.0</td>\n",
              "      <td>0.0</td>\n",
              "      <td>0.0</td>\n",
              "      <td>19.95</td>\n",
              "      <td>21.97</td>\n",
              "    </tr>\n",
              "  </tbody>\n",
              "</table>\n",
              "</div>"
            ],
            "text/plain": [
              "   Relative Compactness  Surface Area  Wall Area  Roof Area  Overall Height  \\\n",
              "0                  0.98         514.5      294.0     110.25             7.0   \n",
              "1                  0.98         514.5      294.0     110.25             7.0   \n",
              "2                  0.98         514.5      294.0     110.25             7.0   \n",
              "3                  0.98         514.5      294.0     110.25             7.0   \n",
              "4                  0.90         563.5      318.5     122.50             7.0   \n",
              "5                  0.90         563.5      318.5     122.50             7.0   \n",
              "6                  0.90         563.5      318.5     122.50             7.0   \n",
              "7                  0.90         563.5      318.5     122.50             7.0   \n",
              "8                  0.86         588.0      294.0     147.00             7.0   \n",
              "9                  0.86         588.0      294.0     147.00             7.0   \n",
              "\n",
              "   Orientation  Glazing Area  Glazing Area Distribution  Heating Load  \\\n",
              "0          2.0           0.0                        0.0         15.55   \n",
              "1          3.0           0.0                        0.0         15.55   \n",
              "2          4.0           0.0                        0.0         15.55   \n",
              "3          5.0           0.0                        0.0         15.55   \n",
              "4          2.0           0.0                        0.0         20.84   \n",
              "5          3.0           0.0                        0.0         21.46   \n",
              "6          4.0           0.0                        0.0         20.71   \n",
              "7          5.0           0.0                        0.0         19.68   \n",
              "8          2.0           0.0                        0.0         19.50   \n",
              "9          3.0           0.0                        0.0         19.95   \n",
              "\n",
              "   Cooling Load  \n",
              "0         21.33  \n",
              "1         21.33  \n",
              "2         21.33  \n",
              "3         21.33  \n",
              "4         28.28  \n",
              "5         25.38  \n",
              "6         25.16  \n",
              "7         29.60  \n",
              "8         27.30  \n",
              "9         21.97  "
            ]
          },
          "execution_count": 6,
          "metadata": {},
          "output_type": "execute_result"
        }
      ],
      "source": [
        "df.head(10)"
      ]
    },
    {
      "cell_type": "markdown",
      "metadata": {
        "id": "GDfKykFPgWsj"
      },
      "source": [
        "Looking at the first 10 records in the dataset, we observe that there are no missing values. However, we observe, that\n",
        "2 column **Glazing Area**, and **Glazing Area Distribution** have the value of **0.0** for all first 10 records.\n",
        "\n",
        "Let's confirm further that there are row that have values greater than **0.0**"
      ]
    },
    {
      "cell_type": "code",
      "execution_count": 7,
      "metadata": {
        "colab": {
          "base_uri": "https://localhost:8080/",
          "height": 206
        },
        "id": "ROs9Iky7hv8j",
        "outputId": "86228361-f3a7-4793-e680-2a740ac89e42"
      },
      "outputs": [
        {
          "data": {
            "text/html": [
              "<div>\n",
              "<style scoped>\n",
              "    .dataframe tbody tr th:only-of-type {\n",
              "        vertical-align: middle;\n",
              "    }\n",
              "\n",
              "    .dataframe tbody tr th {\n",
              "        vertical-align: top;\n",
              "    }\n",
              "\n",
              "    .dataframe thead th {\n",
              "        text-align: right;\n",
              "    }\n",
              "</style>\n",
              "<table border=\"1\" class=\"dataframe\">\n",
              "  <thead>\n",
              "    <tr style=\"text-align: right;\">\n",
              "      <th></th>\n",
              "      <th>Relative Compactness</th>\n",
              "      <th>Surface Area</th>\n",
              "      <th>Wall Area</th>\n",
              "      <th>Roof Area</th>\n",
              "      <th>Overall Height</th>\n",
              "      <th>Orientation</th>\n",
              "      <th>Glazing Area</th>\n",
              "      <th>Glazing Area Distribution</th>\n",
              "      <th>Heating Load</th>\n",
              "      <th>Cooling Load</th>\n",
              "    </tr>\n",
              "  </thead>\n",
              "  <tbody>\n",
              "    <tr>\n",
              "      <th>48</th>\n",
              "      <td>0.98</td>\n",
              "      <td>514.5</td>\n",
              "      <td>294.0</td>\n",
              "      <td>110.25</td>\n",
              "      <td>7.0</td>\n",
              "      <td>2.0</td>\n",
              "      <td>0.1</td>\n",
              "      <td>1.0</td>\n",
              "      <td>24.58</td>\n",
              "      <td>26.47</td>\n",
              "    </tr>\n",
              "    <tr>\n",
              "      <th>49</th>\n",
              "      <td>0.98</td>\n",
              "      <td>514.5</td>\n",
              "      <td>294.0</td>\n",
              "      <td>110.25</td>\n",
              "      <td>7.0</td>\n",
              "      <td>3.0</td>\n",
              "      <td>0.1</td>\n",
              "      <td>1.0</td>\n",
              "      <td>24.63</td>\n",
              "      <td>26.37</td>\n",
              "    </tr>\n",
              "    <tr>\n",
              "      <th>50</th>\n",
              "      <td>0.98</td>\n",
              "      <td>514.5</td>\n",
              "      <td>294.0</td>\n",
              "      <td>110.25</td>\n",
              "      <td>7.0</td>\n",
              "      <td>4.0</td>\n",
              "      <td>0.1</td>\n",
              "      <td>1.0</td>\n",
              "      <td>24.63</td>\n",
              "      <td>26.44</td>\n",
              "    </tr>\n",
              "    <tr>\n",
              "      <th>51</th>\n",
              "      <td>0.98</td>\n",
              "      <td>514.5</td>\n",
              "      <td>294.0</td>\n",
              "      <td>110.25</td>\n",
              "      <td>7.0</td>\n",
              "      <td>5.0</td>\n",
              "      <td>0.1</td>\n",
              "      <td>1.0</td>\n",
              "      <td>24.59</td>\n",
              "      <td>26.29</td>\n",
              "    </tr>\n",
              "    <tr>\n",
              "      <th>52</th>\n",
              "      <td>0.90</td>\n",
              "      <td>563.5</td>\n",
              "      <td>318.5</td>\n",
              "      <td>122.50</td>\n",
              "      <td>7.0</td>\n",
              "      <td>2.0</td>\n",
              "      <td>0.1</td>\n",
              "      <td>1.0</td>\n",
              "      <td>29.03</td>\n",
              "      <td>32.92</td>\n",
              "    </tr>\n",
              "  </tbody>\n",
              "</table>\n",
              "</div>"
            ],
            "text/plain": [
              "    Relative Compactness  Surface Area  Wall Area  Roof Area  Overall Height  \\\n",
              "48                  0.98         514.5      294.0     110.25             7.0   \n",
              "49                  0.98         514.5      294.0     110.25             7.0   \n",
              "50                  0.98         514.5      294.0     110.25             7.0   \n",
              "51                  0.98         514.5      294.0     110.25             7.0   \n",
              "52                  0.90         563.5      318.5     122.50             7.0   \n",
              "\n",
              "    Orientation  Glazing Area  Glazing Area Distribution  Heating Load  \\\n",
              "48          2.0           0.1                        1.0         24.58   \n",
              "49          3.0           0.1                        1.0         24.63   \n",
              "50          4.0           0.1                        1.0         24.63   \n",
              "51          5.0           0.1                        1.0         24.59   \n",
              "52          2.0           0.1                        1.0         29.03   \n",
              "\n",
              "    Cooling Load  \n",
              "48         26.47  \n",
              "49         26.37  \n",
              "50         26.44  \n",
              "51         26.29  \n",
              "52         32.92  "
            ]
          },
          "execution_count": 7,
          "metadata": {},
          "output_type": "execute_result"
        }
      ],
      "source": [
        "glazing_area_greater_that_zero = df[df['Glazing Area'] > 0]\n",
        "\n",
        "glazing_area_greater_that_zero.head()"
      ]
    },
    {
      "cell_type": "markdown",
      "metadata": {
        "id": "kkhCMKAhoSFa"
      },
      "source": [
        "There are in fact, rows with glazing area greater than **0.0**, so we assume the data is valid.\n",
        "\n",
        "However for this research we what exlude buildings with no glazing area, and will do that in our data clean up."
      ]
    },
    {
      "cell_type": "markdown",
      "metadata": {
        "id": "pQ_YdJ1PoqMZ"
      },
      "source": [
        "Thus for the data cleaning and preparation we will remove all empty rows and rows containg glazing area of **0.0**."
      ]
    },
    {
      "cell_type": "code",
      "execution_count": 8,
      "metadata": {
        "colab": {
          "base_uri": "https://localhost:8080/",
          "height": 243
        },
        "id": "sQxBlGNvzNYL",
        "outputId": "de4aa807-ee39-45e7-d931-9a35cddc22ed"
      },
      "outputs": [
        {
          "data": {
            "text/html": [
              "<div>\n",
              "<style scoped>\n",
              "    .dataframe tbody tr th:only-of-type {\n",
              "        vertical-align: middle;\n",
              "    }\n",
              "\n",
              "    .dataframe tbody tr th {\n",
              "        vertical-align: top;\n",
              "    }\n",
              "\n",
              "    .dataframe thead th {\n",
              "        text-align: right;\n",
              "    }\n",
              "</style>\n",
              "<table border=\"1\" class=\"dataframe\">\n",
              "  <thead>\n",
              "    <tr style=\"text-align: right;\">\n",
              "      <th></th>\n",
              "      <th>Relative Compactness</th>\n",
              "      <th>Surface Area</th>\n",
              "      <th>Wall Area</th>\n",
              "      <th>Roof Area</th>\n",
              "      <th>Overall Height</th>\n",
              "      <th>Orientation</th>\n",
              "      <th>Glazing Area</th>\n",
              "      <th>Glazing Area Distribution</th>\n",
              "      <th>Heating Load</th>\n",
              "      <th>Cooling Load</th>\n",
              "    </tr>\n",
              "  </thead>\n",
              "  <tbody>\n",
              "    <tr>\n",
              "      <th>48</th>\n",
              "      <td>0.98</td>\n",
              "      <td>514.5</td>\n",
              "      <td>294.0</td>\n",
              "      <td>110.25</td>\n",
              "      <td>7.0</td>\n",
              "      <td>2.0</td>\n",
              "      <td>0.1</td>\n",
              "      <td>1.0</td>\n",
              "      <td>24.58</td>\n",
              "      <td>26.47</td>\n",
              "    </tr>\n",
              "    <tr>\n",
              "      <th>49</th>\n",
              "      <td>0.98</td>\n",
              "      <td>514.5</td>\n",
              "      <td>294.0</td>\n",
              "      <td>110.25</td>\n",
              "      <td>7.0</td>\n",
              "      <td>3.0</td>\n",
              "      <td>0.1</td>\n",
              "      <td>1.0</td>\n",
              "      <td>24.63</td>\n",
              "      <td>26.37</td>\n",
              "    </tr>\n",
              "    <tr>\n",
              "      <th>50</th>\n",
              "      <td>0.98</td>\n",
              "      <td>514.5</td>\n",
              "      <td>294.0</td>\n",
              "      <td>110.25</td>\n",
              "      <td>7.0</td>\n",
              "      <td>4.0</td>\n",
              "      <td>0.1</td>\n",
              "      <td>1.0</td>\n",
              "      <td>24.63</td>\n",
              "      <td>26.44</td>\n",
              "    </tr>\n",
              "    <tr>\n",
              "      <th>51</th>\n",
              "      <td>0.98</td>\n",
              "      <td>514.5</td>\n",
              "      <td>294.0</td>\n",
              "      <td>110.25</td>\n",
              "      <td>7.0</td>\n",
              "      <td>5.0</td>\n",
              "      <td>0.1</td>\n",
              "      <td>1.0</td>\n",
              "      <td>24.59</td>\n",
              "      <td>26.29</td>\n",
              "    </tr>\n",
              "    <tr>\n",
              "      <th>52</th>\n",
              "      <td>0.90</td>\n",
              "      <td>563.5</td>\n",
              "      <td>318.5</td>\n",
              "      <td>122.50</td>\n",
              "      <td>7.0</td>\n",
              "      <td>2.0</td>\n",
              "      <td>0.1</td>\n",
              "      <td>1.0</td>\n",
              "      <td>29.03</td>\n",
              "      <td>32.92</td>\n",
              "    </tr>\n",
              "  </tbody>\n",
              "</table>\n",
              "</div>"
            ],
            "text/plain": [
              "    Relative Compactness  Surface Area  Wall Area  Roof Area  Overall Height  \\\n",
              "48                  0.98         514.5      294.0     110.25             7.0   \n",
              "49                  0.98         514.5      294.0     110.25             7.0   \n",
              "50                  0.98         514.5      294.0     110.25             7.0   \n",
              "51                  0.98         514.5      294.0     110.25             7.0   \n",
              "52                  0.90         563.5      318.5     122.50             7.0   \n",
              "\n",
              "    Orientation  Glazing Area  Glazing Area Distribution  Heating Load  \\\n",
              "48          2.0           0.1                        1.0         24.58   \n",
              "49          3.0           0.1                        1.0         24.63   \n",
              "50          4.0           0.1                        1.0         24.63   \n",
              "51          5.0           0.1                        1.0         24.59   \n",
              "52          2.0           0.1                        1.0         29.03   \n",
              "\n",
              "    Cooling Load  \n",
              "48         26.47  \n",
              "49         26.37  \n",
              "50         26.44  \n",
              "51         26.29  \n",
              "52         32.92  "
            ]
          },
          "execution_count": 8,
          "metadata": {},
          "output_type": "execute_result"
        }
      ],
      "source": [
        "# creating function to filter out a specific rows in the data frame.\n",
        "def data_filter(df):\n",
        "    \"\"\" removes specific rows from the data set \"\"\"\n",
        "    filtered_df = df.dropna()\n",
        "\n",
        "    filtered_df = filtered_df[filtered_df['Glazing Area'] != 0]\n",
        "\n",
        "    return filtered_df\n",
        "\n",
        "sample_df = data_filter(df)\n",
        "sample_df.head()"
      ]
    },
    {
      "cell_type": "code",
      "execution_count": 9,
      "metadata": {},
      "outputs": [
        {
          "name": "stdout",
          "output_type": "stream",
          "text": [
            "Number of rows after data cleaning: 720\n"
          ]
        }
      ],
      "source": [
        "print(f\"Number of rows after data cleaning: {len(sample_df)}\")"
      ]
    },
    {
      "cell_type": "markdown",
      "metadata": {},
      "source": [
        "The data clean up resulted in **720** final records that are ready to use."
      ]
    },
    {
      "cell_type": "markdown",
      "metadata": {
        "id": "tEUiU_ENIEhC"
      },
      "source": [
        "## Exploratory Data Analysis"
      ]
    },
    {
      "cell_type": "code",
      "execution_count": 10,
      "metadata": {
        "id": "NrHnCMhIhuGg"
      },
      "outputs": [],
      "source": [
        "# Function to create a histogram\n",
        "def create_histogram(df, column_name, bins=20):\n",
        "    plt.figure(figsize=(8, 6))\n",
        "    plt.hist(df[column_name], bins=bins)\n",
        "    plt.title(f'Histogram of {column_name}')\n",
        "    plt.xlabel(column_name)\n",
        "    plt.ylabel('Frequency')\n",
        "    plt.show()\n",
        "\n",
        "\n",
        "# Function to create a box plot\n",
        "def create_boxplot(df, column_name):\n",
        "    plt.figure(figsize=(8, 6))\n",
        "    plt.boxplot(df[column_name])\n",
        "    plt.title(f'Box Plot of {column_name}')\n",
        "    plt.ylabel(column_name)\n",
        "    plt.show()\n"
      ]
    },
    {
      "cell_type": "code",
      "execution_count": 11,
      "metadata": {
        "colab": {
          "base_uri": "https://localhost:8080/",
          "height": 300
        },
        "id": "xhbuCQipj2_M",
        "outputId": "3b4f95b5-9ea7-4723-b3ae-e9b00c69941b"
      },
      "outputs": [
        {
          "data": {
            "text/html": [
              "<div>\n",
              "<style scoped>\n",
              "    .dataframe tbody tr th:only-of-type {\n",
              "        vertical-align: middle;\n",
              "    }\n",
              "\n",
              "    .dataframe tbody tr th {\n",
              "        vertical-align: top;\n",
              "    }\n",
              "\n",
              "    .dataframe thead th {\n",
              "        text-align: right;\n",
              "    }\n",
              "</style>\n",
              "<table border=\"1\" class=\"dataframe\">\n",
              "  <thead>\n",
              "    <tr style=\"text-align: right;\">\n",
              "      <th></th>\n",
              "      <th>Relative Compactness</th>\n",
              "      <th>Surface Area</th>\n",
              "      <th>Wall Area</th>\n",
              "      <th>Roof Area</th>\n",
              "      <th>Overall Height</th>\n",
              "      <th>Orientation</th>\n",
              "      <th>Glazing Area</th>\n",
              "      <th>Glazing Area Distribution</th>\n",
              "      <th>Heating Load</th>\n",
              "      <th>Cooling Load</th>\n",
              "    </tr>\n",
              "  </thead>\n",
              "  <tbody>\n",
              "    <tr>\n",
              "      <th>count</th>\n",
              "      <td>720.000000</td>\n",
              "      <td>720.000000</td>\n",
              "      <td>720.000000</td>\n",
              "      <td>720.000000</td>\n",
              "      <td>720.000000</td>\n",
              "      <td>720.000000</td>\n",
              "      <td>720.00000</td>\n",
              "      <td>720.000000</td>\n",
              "      <td>720.000000</td>\n",
              "      <td>720.000000</td>\n",
              "    </tr>\n",
              "    <tr>\n",
              "      <th>mean</th>\n",
              "      <td>0.764167</td>\n",
              "      <td>671.708333</td>\n",
              "      <td>318.500000</td>\n",
              "      <td>176.604167</td>\n",
              "      <td>5.250000</td>\n",
              "      <td>3.500000</td>\n",
              "      <td>0.25000</td>\n",
              "      <td>3.000000</td>\n",
              "      <td>22.841917</td>\n",
              "      <td>24.913194</td>\n",
              "    </tr>\n",
              "    <tr>\n",
              "      <th>std</th>\n",
              "      <td>0.105782</td>\n",
              "      <td>88.089944</td>\n",
              "      <td>43.628378</td>\n",
              "      <td>45.167913</td>\n",
              "      <td>1.751217</td>\n",
              "      <td>1.118811</td>\n",
              "      <td>0.12256</td>\n",
              "      <td>1.415197</td>\n",
              "      <td>10.011346</td>\n",
              "      <td>9.514344</td>\n",
              "    </tr>\n",
              "    <tr>\n",
              "      <th>min</th>\n",
              "      <td>0.620000</td>\n",
              "      <td>514.500000</td>\n",
              "      <td>245.000000</td>\n",
              "      <td>110.250000</td>\n",
              "      <td>3.500000</td>\n",
              "      <td>2.000000</td>\n",
              "      <td>0.10000</td>\n",
              "      <td>1.000000</td>\n",
              "      <td>10.070000</td>\n",
              "      <td>13.200000</td>\n",
              "    </tr>\n",
              "    <tr>\n",
              "      <th>25%</th>\n",
              "      <td>0.682500</td>\n",
              "      <td>606.375000</td>\n",
              "      <td>294.000000</td>\n",
              "      <td>140.875000</td>\n",
              "      <td>3.500000</td>\n",
              "      <td>2.750000</td>\n",
              "      <td>0.10000</td>\n",
              "      <td>2.000000</td>\n",
              "      <td>13.170000</td>\n",
              "      <td>15.777500</td>\n",
              "    </tr>\n",
              "    <tr>\n",
              "      <th>50%</th>\n",
              "      <td>0.750000</td>\n",
              "      <td>673.750000</td>\n",
              "      <td>318.500000</td>\n",
              "      <td>183.750000</td>\n",
              "      <td>5.250000</td>\n",
              "      <td>3.500000</td>\n",
              "      <td>0.25000</td>\n",
              "      <td>3.000000</td>\n",
              "      <td>21.050000</td>\n",
              "      <td>23.670000</td>\n",
              "    </tr>\n",
              "    <tr>\n",
              "      <th>75%</th>\n",
              "      <td>0.830000</td>\n",
              "      <td>741.125000</td>\n",
              "      <td>343.000000</td>\n",
              "      <td>220.500000</td>\n",
              "      <td>7.000000</td>\n",
              "      <td>4.250000</td>\n",
              "      <td>0.40000</td>\n",
              "      <td>4.000000</td>\n",
              "      <td>32.135000</td>\n",
              "      <td>33.482500</td>\n",
              "    </tr>\n",
              "    <tr>\n",
              "      <th>max</th>\n",
              "      <td>0.980000</td>\n",
              "      <td>808.500000</td>\n",
              "      <td>416.500000</td>\n",
              "      <td>220.500000</td>\n",
              "      <td>7.000000</td>\n",
              "      <td>5.000000</td>\n",
              "      <td>0.40000</td>\n",
              "      <td>5.000000</td>\n",
              "      <td>43.100000</td>\n",
              "      <td>48.030000</td>\n",
              "    </tr>\n",
              "  </tbody>\n",
              "</table>\n",
              "</div>"
            ],
            "text/plain": [
              "       Relative Compactness  Surface Area   Wall Area   Roof Area  \\\n",
              "count            720.000000    720.000000  720.000000  720.000000   \n",
              "mean               0.764167    671.708333  318.500000  176.604167   \n",
              "std                0.105782     88.089944   43.628378   45.167913   \n",
              "min                0.620000    514.500000  245.000000  110.250000   \n",
              "25%                0.682500    606.375000  294.000000  140.875000   \n",
              "50%                0.750000    673.750000  318.500000  183.750000   \n",
              "75%                0.830000    741.125000  343.000000  220.500000   \n",
              "max                0.980000    808.500000  416.500000  220.500000   \n",
              "\n",
              "       Overall Height  Orientation  Glazing Area  Glazing Area Distribution  \\\n",
              "count      720.000000   720.000000     720.00000                 720.000000   \n",
              "mean         5.250000     3.500000       0.25000                   3.000000   \n",
              "std          1.751217     1.118811       0.12256                   1.415197   \n",
              "min          3.500000     2.000000       0.10000                   1.000000   \n",
              "25%          3.500000     2.750000       0.10000                   2.000000   \n",
              "50%          5.250000     3.500000       0.25000                   3.000000   \n",
              "75%          7.000000     4.250000       0.40000                   4.000000   \n",
              "max          7.000000     5.000000       0.40000                   5.000000   \n",
              "\n",
              "       Heating Load  Cooling Load  \n",
              "count    720.000000    720.000000  \n",
              "mean      22.841917     24.913194  \n",
              "std       10.011346      9.514344  \n",
              "min       10.070000     13.200000  \n",
              "25%       13.170000     15.777500  \n",
              "50%       21.050000     23.670000  \n",
              "75%       32.135000     33.482500  \n",
              "max       43.100000     48.030000  "
            ]
          },
          "execution_count": 11,
          "metadata": {},
          "output_type": "execute_result"
        }
      ],
      "source": [
        "sample_df.describe()"
      ]
    },
    {
      "cell_type": "markdown",
      "metadata": {
        "id": "_9DF4ePYiOg6"
      },
      "source": [
        "\n",
        "\n",
        "\n",
        "\n",
        "\n",
        "\n",
        "\n",
        "\n",
        "We want to focus on the **Heating Load** result variable.\n",
        "\n",
        "First, we want to understand what is the distribution of the **Heating Load** in our dataset, and what are the good target values for an efficient construction."
      ]
    },
    {
      "cell_type": "code",
      "execution_count": 12,
      "metadata": {
        "colab": {
          "base_uri": "https://localhost:8080/",
          "height": 1000
        },
        "id": "K8FJfS5DjkLN",
        "outputId": "87567916-5798-478f-a9c2-56be66dc4f18"
      },
      "outputs": [
        {
          "data": {
            "image/png": "[encoded data removed]",
            "text/plain": [
              "<Figure size 800x600 with 1 Axes>"
            ]
          },
          "metadata": {},
          "output_type": "display_data"
        },
        {
          "data": {
            "image/png": "[encoded data removed]",
            "text/plain": [
              "<Figure size 800x600 with 1 Axes>"
            ]
          },
          "metadata": {},
          "output_type": "display_data"
        },
        {
          "name": "stdout",
          "output_type": "stream",
          "text": [
            "The median Heating Load is 21.05\n"
          ]
        }
      ],
      "source": [
        "# Create a histogram\n",
        "create_histogram(sample_df, 'Heating Load')\n",
        "create_boxplot(sample_df, 'Heating Load')\n",
        "\n",
        "print(f\"The median Heating Load is {sample_df['Heating Load'].median():.2f}\")"
      ]
    },
    {
      "cell_type": "markdown",
      "metadata": {
        "id": "8rzurVZdkFtZ"
      },
      "source": [
        "For the energy efficient construction, we want to focus on the **Heating Load** below the median value of **21.05**."
      ]
    },
    {
      "cell_type": "markdown",
      "metadata": {
        "id": "R7XStXR1jSkV"
      },
      "source": [
        "Next, we want to indetify what are the features that are most likely to influence the **Heating Load**, so that we can focus on them."
      ]
    },
    {
      "cell_type": "code",
      "execution_count": 13,
      "metadata": {
        "colab": {
          "base_uri": "https://localhost:8080/"
        },
        "id": "3vfXkhw2b9ha",
        "outputId": "ea1dd96d-e0ce-40a8-a913-796dfdf82ed5"
      },
      "outputs": [
        {
          "name": "stdout",
          "output_type": "stream",
          "text": [
            "                           Relative Compactness  Surface Area     Wall Area  \\\n",
            "Relative Compactness               1.000000e+00 -9.919015e-01 -2.037817e-01   \n",
            "Surface Area                      -9.919015e-01  1.000000e+00  1.955016e-01   \n",
            "Wall Area                         -2.037817e-01  1.955016e-01  1.000000e+00   \n",
            "Roof Area                         -8.688234e-01  8.807195e-01 -2.923165e-01   \n",
            "Overall Height                     8.277473e-01 -8.581477e-01  2.809757e-01   \n",
            "Orientation                        5.023116e-17 -3.970757e-17 -3.320315e-17   \n",
            "Glazing Area                      -3.443559e-15  3.190455e-15  4.687452e-16   \n",
            "Glazing Area Distribution          6.446626e-17  1.369815e-15 -1.747826e-16   \n",
            "Heating Load                       6.410996e-01 -6.772660e-01  4.643809e-01   \n",
            "Cooling Load                       6.441175e-01 -6.827302e-01  4.292985e-01   \n",
            "\n",
            "                              Roof Area  Overall Height   Orientation  \\\n",
            "Relative Compactness      -8.688234e-01    8.277473e-01  5.023116e-17   \n",
            "Surface Area               8.807195e-01   -8.581477e-01 -3.970757e-17   \n",
            "Wall Area                 -2.923165e-01    2.809757e-01 -3.320315e-17   \n",
            "Roof Area                  1.000000e+00   -9.725122e-01 -5.162718e-17   \n",
            "Overall Height            -9.725122e-01    1.000000e+00  4.287297e-17   \n",
            "Orientation               -5.162718e-17    4.287297e-17  1.000000e+00   \n",
            "Glazing Area              -1.889175e-15   -1.413698e-16 -8.262761e-16   \n",
            "Glazing Area Distribution -3.243545e-16    2.741431e-17 -1.856841e-16   \n",
            "Heating Load              -8.847045e-01    9.116191e-01 -1.863814e-03   \n",
            "Cooling Load              -8.730896e-01    9.055493e-01  1.431095e-02   \n",
            "\n",
            "                           Glazing Area  Glazing Area Distribution  \\\n",
            "Relative Compactness      -3.443559e-15               6.446626e-17   \n",
            "Surface Area               3.190455e-15               1.369815e-15   \n",
            "Wall Area                  4.687452e-16              -1.747826e-16   \n",
            "Roof Area                 -1.889175e-15              -3.243545e-16   \n",
            "Overall Height            -1.413698e-16               2.741431e-17   \n",
            "Orientation               -8.262761e-16              -1.856841e-16   \n",
            "Glazing Area               1.000000e+00              -5.332660e-16   \n",
            "Glazing Area Distribution -5.332660e-16               1.000000e+00   \n",
            "Heating Load               2.062585e-01              -1.043506e-02   \n",
            "Cooling Load               1.707183e-01              -1.354702e-02   \n",
            "\n",
            "                           Heating Load  Cooling Load  \n",
            "Relative Compactness           0.641100      0.644117  \n",
            "Surface Area                  -0.677266     -0.682730  \n",
            "Wall Area                      0.464381      0.429299  \n",
            "Roof Area                     -0.884705     -0.873090  \n",
            "Overall Height                 0.911619      0.905549  \n",
            "Orientation                   -0.001864      0.014311  \n",
            "Glazing Area                   0.206259      0.170718  \n",
            "Glazing Area Distribution     -0.010435     -0.013547  \n",
            "Heating Load                   1.000000      0.978443  \n",
            "Cooling Load                   0.978443      1.000000  \n"
          ]
        }
      ],
      "source": [
        "# analyze correlations between columns\n",
        "correlation_matrix = sample_df.corr()\n",
        "\n",
        "print(correlation_matrix)"
      ]
    },
    {
      "cell_type": "code",
      "execution_count": 14,
      "metadata": {
        "colab": {
          "base_uri": "https://localhost:8080/",
          "height": 705
        },
        "id": "72TBnKnxeA3b",
        "outputId": "3d018950-4864-4f50-8c11-c7945f61b487"
      },
      "outputs": [
        {
          "data": {
            "image/png": "[encoded data removed]",
            "text/plain": [
              "<Figure size 800x600 with 2 Axes>"
            ]
          },
          "metadata": {},
          "output_type": "display_data"
        }
      ],
      "source": [
        "plt.figure(figsize=(8, 6))\n",
        "sns.heatmap(correlation_matrix, annot=True, cmap='coolwarm', fmt=\".2f\")\n",
        "plt.title('Column Correlations Heatmap')\n",
        "plt.show()"
      ]
    },
    {
      "cell_type": "markdown",
      "metadata": {
        "id": "TAzsOJgpefM9"
      },
      "source": [
        "Looking at the reulst of correlations between the Heating Load and other columns, we can identify the features that are most likely to influence the Heating Load:\n",
        "\n",
        "\n",
        "*  Overall Height  \n",
        "*  Roof Area\n",
        "*  Surface Area\n",
        "*  Relative Compactness\n",
        "\n",
        "For this research we want to focus on the **Overall Height** and **Relative Compactness**, since we find those features easily accessible to the constructions companies during the archtecture and building process.  \n",
        "We want to futher explore these relationship, and create predictions based on our findings.\n"
      ]
    },
    {
      "cell_type": "code",
      "execution_count": 15,
      "metadata": {
        "colab": {
          "base_uri": "https://localhost:8080/"
        },
        "id": "3clZt9Q0nGCN",
        "outputId": "dcc69067-87df-4b8a-c7ee-68d193fbeb74"
      },
      "outputs": [
        {
          "name": "stdout",
          "output_type": "stream",
          "text": [
            "Pearson Correlation Coefficient: 0.9116191406291019\n",
            "P-value: 1.9031964872758803e-279\n",
            "There is a statistically significant linear relationship between 'Overall Height' and 'Heating Load'.\n"
          ]
        }
      ],
      "source": [
        "# TODO add Hypothesis Testing\n",
        "# I.e. prove that there is effect of roof area and overall height on the Heating Load\n",
        "\n",
        "\n",
        "height = sample_df['Overall Height']\n",
        "heat_load = sample_df['Heating Load']\n",
        "\n",
        "# Calculate the Pearson correlation coefficient and p-value\n",
        "correlation, p_value = pearsonr(height, heat_load)\n",
        "\n",
        "print(f\"Pearson Correlation Coefficient: {correlation}\")\n",
        "print(f\"P-value: {p_value}\")\n",
        "\n",
        "# Interpret the results\n",
        "alpha = 0.05  # significance level\n",
        "if p_value < alpha:\n",
        "    print(\"There is a statistically significant linear relationship between 'Overall Height' and 'Heating Load'.\")\n",
        "else:\n",
        "    print(\"There is no statistically significant linear relationship between 'Overall Height' and 'Heating Load'.\")\n"
      ]
    },
    {
      "cell_type": "code",
      "execution_count": 16,
      "metadata": {
        "colab": {
          "base_uri": "https://localhost:8080/"
        },
        "id": "Mr-BrnJCQRYu",
        "outputId": "fc7a6270-ca54-4491-fd46-476da8ff77e3"
      },
      "outputs": [
        {
          "name": "stdout",
          "output_type": "stream",
          "text": [
            "Pearson Correlation Coefficient: 0.6410996100813607\n",
            "P-value: 1.364665389737359e-84\n",
            "There is a statistically significant linear relationship between 'Relative Compactness' and 'Heating Load'.\n"
          ]
        }
      ],
      "source": [
        "height = sample_df['Relative Compactness']\n",
        "heat_load = sample_df['Heating Load']\n",
        "\n",
        "# Calculate the Pearson correlation coefficient and p-value\n",
        "correlation, p_value = pearsonr(height, heat_load)\n",
        "\n",
        "print(f\"Pearson Correlation Coefficient: {correlation}\")\n",
        "print(f\"P-value: {p_value}\")\n",
        "\n",
        "# Interpret the results\n",
        "alpha = 0.05  # significance level\n",
        "if p_value < alpha:\n",
        "    print(\"There is a statistically significant linear relationship between 'Relative Compactness' and 'Heating Load'.\")\n",
        "else:\n",
        "    print(\"There is no statistically significant linear relationship between 'Relative Compactness' and 'Heating Load'.\")"
      ]
    },
    {
      "cell_type": "markdown",
      "metadata": {
        "id": "Hc9penFEn362"
      },
      "source": [
        "Now, that we saw the there is an effect of the Roof Area and Overall Height on the Heating Load, we will intodcue a *energy efficiency score* metric to\n",
        "\n",
        "Our goal is too minimize the the ineficient constructions, i.e. small buildings with large heating load.\n",
        "\n",
        "Keep in mind that this is a simplified metric, and real-world energy efficiency assessments are much more complex. One can assume, that factors such as insulation, window quality, HVAC system efficiency, and renewable energy sources play significant roles in a building's overall energy efficiency. For the purpose of this research we omit those metrics.\n",
        "\n"
      ]
    },
    {
      "cell_type": "markdown",
      "metadata": {
        "id": "ZWYTced1nZfZ"
      },
      "source": [
        "## Model Selection\n",
        "\n"
      ]
    },
    {
      "cell_type": "code",
      "execution_count": 17,
      "metadata": {
        "colab": {
          "base_uri": "https://localhost:8080/"
        },
        "id": "WN_HO5mQplE_",
        "outputId": "49ab3b65-ee26-4bae-abb7-adb6bc11afdb"
      },
      "outputs": [
        {
          "name": "stdout",
          "output_type": "stream",
          "text": [
            "                            OLS Regression Results                            \n",
            "==============================================================================\n",
            "Dep. Variable:           Heating Load   R-squared:                       0.872\n",
            "Model:                            OLS   Adj. R-squared:                  0.872\n",
            "Method:                 Least Squares   F-statistic:                     2441.\n",
            "Date:                Sat, 14 Oct 2023   Prob (F-statistic):          9.62e-321\n",
            "Time:                        18:46:42   Log-Likelihood:                -1939.9\n",
            "No. Observations:                 720   AIC:                             3886.\n",
            "Df Residuals:                     717   BIC:                             3899.\n",
            "Df Model:                           2                                         \n",
            "Covariance Type:            nonrobust                                         \n",
            "========================================================================================\n",
            "                           coef    std err          t      P>|t|      [0.025      0.975]\n",
            "----------------------------------------------------------------------------------------\n",
            "const                   12.5962      1.207     10.434      0.000      10.226      14.966\n",
            "Relative Compactness   -34.1160      2.254    -15.136      0.000     -38.541     -29.691\n",
            "Overall Height           6.9173      0.136     50.806      0.000       6.650       7.185\n",
            "==============================================================================\n",
            "Omnibus:                       12.030   Durbin-Watson:                   0.400\n",
            "Prob(Omnibus):                  0.002   Jarque-Bera (JB):               13.162\n",
            "Skew:                          -0.251   Prob(JB):                      0.00139\n",
            "Kurtosis:                       3.431   Cond. No.                         107.\n",
            "==============================================================================\n",
            "\n",
            "Notes:\n",
            "[1] Standard Errors assume that the covariance matrix of the errors is correctly specified.\n"
          ]
        }
      ],
      "source": [
        "\n",
        "X = sample_df[['Relative Compactness', 'Overall Height']]\n",
        "X = sm.add_constant(X)  # Adds a constant term to the predictor\n",
        "y = sample_df['Heating Load']\n",
        "\n",
        "model = sm.OLS(y, X).fit()\n",
        "print(model.summary())"
      ]
    }
  ],
  "metadata": {
    "colab": {
      "provenance": []
    },
    "kernelspec": {
      "display_name": "Python 3",
      "name": "python3"
    },
    "language_info": {
      "codemirror_mode": {
        "name": "ipython",
        "version": 3
      },
      "file_extension": ".py",
      "mimetype": "text/x-python",
      "name": "python",
      "nbconvert_exporter": "python",
      "pygments_lexer": "ipython3",
      "version": "3.11.5"
    }
  },
  "nbformat": 4,
  "nbformat_minor": 0
}
